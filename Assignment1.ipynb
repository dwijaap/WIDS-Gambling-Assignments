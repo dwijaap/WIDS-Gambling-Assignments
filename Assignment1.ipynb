{
 "cells": [
  {
   "cell_type": "markdown",
   "id": "28e5e8cc-1381-4fc4-aba5-965e5a4b8798",
   "metadata": {
    "jp-MarkdownHeadingCollapsed": true
   },
   "source": [
    "# Environment 0 - Bandit Walk\n",
    "Simplee"
   ]
  },
  {
   "cell_type": "code",
   "execution_count": 1,
   "id": "2ef9962f-299f-4953-9d46-897bbe77a0b6",
   "metadata": {},
   "outputs": [],
   "source": [
    "bw_mdp = {\n",
    "\n",
    "    0 : {\n",
    "        \"Right\" : [(1, 0, 0, True)],\n",
    "        \"Left\" : [(1, 0, 0, True)]\n",
    "    },\n",
    "\n",
    "    1 : {\n",
    "        \"Right\" : [(1, 2, 1, True)],\n",
    "        \"Left\" : [(1, 0, 0, True)]\n",
    "    },\n",
    "\n",
    "    2 : {\n",
    "        \"Right\" : [(1, 2, 0, True)],\n",
    "        \"Left\" : [(1, 2, 0, True)]\n",
    "    }\n",
    "    \n",
    "}"
   ]
  },
  {
   "cell_type": "markdown",
   "id": "0c0dd2be-b115-4d0f-a367-d7a4cae1778a",
   "metadata": {},
   "source": [
    "# Environment 1 - Slippery Walk\n",
    "7 states <br>\n",
    "states 0 and 6 - terminal <br>\n",
    "state 3 - starting state<br>\n",
    "If agent chooses Right at a non-terminal state,<br>\n",
    "1/2 times it will go to Right state<br>\n",
    "1/3 times it will stay in same state<br>\n",
    "1/6 times it will go to Left state<br>\n",
    "\n",
    "2 tuples have reward"
   ]
  },
  {
   "cell_type": "code",
   "execution_count": 28,
   "id": "81b9a8cd-0a5e-4ab9-aff8-3ed41de016b2",
   "metadata": {},
   "outputs": [],
   "source": [
    "swf_mdp = {\n",
    "\n",
    "    0 : {\n",
    "        \"Right\" : [(1, 0, 0, True)],\n",
    "        \"Left\" : [(1, 0, 0, True)],\n",
    "    }, \n",
    "    1:None,\n",
    "    2:None,\n",
    "    3:None,\n",
    "    4:None,\n",
    "    5:None,\n",
    "    6:{\n",
    "        \"Right\" : [(1, 6, 0, True)],\n",
    "        \"Left\" : [(1, 6, 0, True)],\n",
    "    }\n",
    "}"
   ]
  },
  {
   "cell_type": "code",
   "execution_count": 29,
   "id": "c3748137-611a-4108-98cc-1ad4b4431848",
   "metadata": {},
   "outputs": [],
   "source": [
    "def getPro(x):\n",
    "    if x==0 :\n",
    "        return 1/2\n",
    "    elif x==1:\n",
    "        return 1/3\n",
    "    else:\n",
    "        return 1/6\n",
    "\n",
    "def getPlace(x,y,z):\n",
    "    if x==0 and y==0:\n",
    "        return z+1\n",
    "    elif x==0 and y==1 :\n",
    "        return z\n",
    "    elif x==0 and y==2:\n",
    "        return z-1\n",
    "    elif x==1 and y==0:\n",
    "        return z-1\n",
    "    elif x==1 and y==1:\n",
    "        return z\n",
    "    else:\n",
    "        return z+1\n",
    "\n",
    "def getReward(x,y,z):\n",
    "    k = getPlace(x,y,z)\n",
    "    if k==6:\n",
    "        return 1\n",
    "    else:\n",
    "        return 0\n",
    "\n",
    "def getBool(x):\n",
    "    if x==6 or x==0:\n",
    "        return True\n",
    "    else:\n",
    "        return False\n",
    "\n",
    "RoL = [\"Right\",\"Left\"]"
   ]
  },
  {
   "cell_type": "code",
   "execution_count": 30,
   "id": "34aa537b-66a2-47ff-8875-100965e78965",
   "metadata": {},
   "outputs": [
    {
     "name": "stdout",
     "output_type": "stream",
     "text": [
      "0 {'Right': [(1, 0, 0, True)], 'Left': [(1, 0, 0, True)]}\n",
      "1 {'Right': [(0.5, 2, 0, False), (0.3333333333333333, 1, 0, False), (0.16666666666666666, 0, 0, True)], 'Left': [(0.5, 0, 0, True), (0.3333333333333333, 1, 0, False), (0.16666666666666666, 2, 0, False)]}\n",
      "2 {'Right': [(0.5, 3, 0, False), (0.3333333333333333, 2, 0, False), (0.16666666666666666, 1, 0, False)], 'Left': [(0.5, 1, 0, False), (0.3333333333333333, 2, 0, False), (0.16666666666666666, 3, 0, False)]}\n",
      "3 {'Right': [(0.5, 4, 0, False), (0.3333333333333333, 3, 0, False), (0.16666666666666666, 2, 0, False)], 'Left': [(0.5, 2, 0, False), (0.3333333333333333, 3, 0, False), (0.16666666666666666, 4, 0, False)]}\n",
      "4 {'Right': [(0.5, 5, 0, False), (0.3333333333333333, 4, 0, False), (0.16666666666666666, 3, 0, False)], 'Left': [(0.5, 3, 0, False), (0.3333333333333333, 4, 0, False), (0.16666666666666666, 5, 0, False)]}\n",
      "5 {'Right': [(0.5, 6, 1, True), (0.3333333333333333, 5, 0, False), (0.16666666666666666, 4, 0, False)], 'Left': [(0.5, 4, 0, False), (0.3333333333333333, 5, 0, False), (0.16666666666666666, 6, 1, True)]}\n",
      "6 {'Right': [(1, 6, 0, True)], 'Left': [(1, 6, 0, True)]}\n"
     ]
    }
   ],
   "source": [
    "for x in range(6):\n",
    "    if x!=0:\n",
    "        diction = { \"Right\" : [] , \"Left\" : [] }\n",
    "        for y in range(2):\n",
    "            for z in range(3):\n",
    "                listt = [getPro(z) , getPlace(y,z,x) , getReward(y,z,x) , getBool(getPlace(y,z,x))]\n",
    "                listt = tuple(listt)\n",
    "                diction[RoL[y]].append(listt)\n",
    "                '''\n",
    "                swf_mdp[x][RoL[y]][z] = list(swf_mdp[x][RoL[y]][z])\n",
    "                swf_mdp[x][RoL[y]][z][0] = getPro(z)\n",
    "                swf_mdp[x][RoL[y]][z][1] = getPlace(y,z,x)\n",
    "                swf_mdp[x][RoL[y]][z][2] = getReward(swf_mdp[x][RoL[y]][z][1])\n",
    "                swf_mdp[x][RoL[y]][z][3] = getBool(swf_mdp[x][RoL[y]][z][1])\n",
    "                swf_mdp[x][RoL[y]][z] = tuple(swf_mdp[x][RoL[y]][z])\n",
    "                '''\n",
    "\n",
    "        swf_mdp[x] = diction\n",
    "\n",
    "for x in swf_mdp:\n",
    "    print(x ,swf_mdp[x])"
   ]
  },
  {
   "cell_type": "markdown",
   "id": "d76152cc-fc18-41d6-8b5f-6672f167134d",
   "metadata": {},
   "source": [
    "# Environment 2 : Frozen Lake Environment\n",
    "Note that all 5 states - 5, 7, 11, 12, 15 are terminal states, so keep that in mind while constructing the MDP.<br>\n",
    "There are 4 actions now - Up, Down, Left, Right.<br>\n",
    "The environment is stochastic, and states at the border of lake will require separate treatment."
   ]
  },
  {
   "cell_type": "code",
   "execution_count": 11,
   "id": "48e060a7-e6d4-4fee-8e81-64074feb44ef",
   "metadata": {},
   "outputs": [],
   "source": [
    "fl_mdp = {\n",
    "    0:None,\n",
    "    1:None,\n",
    "    2:None,\n",
    "    3:None,\n",
    "    4:None,\n",
    "    5:{0: [(1.0, 5, 0, True)], 1: [(1.0, 5, 0, True)], 2: [(1.0, 5, 0, True)], 3: [(1.0, 5, 0, True)]},\n",
    "    6:None,\n",
    "    7:{0: [(1.0, 7, 0, True)], 1: [(1.0, 7, 0, True)], 2: [(1.0, 7, 0, True)], 3: [(1.0, 7, 0, True)]},\n",
    "    8:None,\n",
    "    9:None,\n",
    "    10:None,\n",
    "    11:{0: [(1.0, 11, 0, True)], 1: [(1.0, 11, 0, True)], 2: [(1.0, 11, 0, True)], 3: [(1.0, 11, 0, True)]},\n",
    "    12: {0: [(1.0, 12, 0, True)], 1: [(1.0, 12, 0, True)], 2: [(1.0, 12, 0, True)], 3: [(1.0, 12, 0, True)]},\n",
    "    13:None,\n",
    "    14:None,\n",
    "    15: {0: [(1.0, 15, 0, True)], 1: [(1.0, 15, 0, True)], 2: [(1.0, 15, 0, True)], 3: [(1.0, 15, 0, True)]}\n",
    "}"
   ]
  },
  {
   "cell_type": "code",
   "execution_count": 6,
   "id": "fb86bbd4-6385-4c64-b73f-147b33926f7d",
   "metadata": {},
   "outputs": [],
   "source": [
    "def getNewState(action,cs):\n",
    "    switcher = {\n",
    "        \"Up\" : cs-4 ,\n",
    "        \"Down\" : cs+4 ,\n",
    "        \"Right\" : cs+1,\n",
    "        \"Left\" : cs-1,\n",
    "    }\n",
    "    if(switcher[action]<0 or switcher[action]>15):\n",
    "        return cs\n",
    "    if(action==\"Right\" and cs==3):\n",
    "        return cs\n",
    "    if(action==\"Left\" and (cs==4 or cs==8)):\n",
    "        return cs\n",
    "    return switcher[action]\n",
    "\n",
    "def getReward(action,cs):\n",
    "    if cs==14 and getNewState(action,cs)==15 :\n",
    "        return 1\n",
    "    return 0\n",
    "\n",
    "def getTer(action,cs):\n",
    "    x = getNewState(action,cs)\n",
    "    if x==5 or x==7 or x==11 or x==12 or x==15:\n",
    "        return True\n",
    "    return False\n",
    "    "
   ]
  },
  {
   "cell_type": "code",
   "execution_count": 13,
   "id": "072fd493-abf3-4a5e-8e83-5b99a894b5bf",
   "metadata": {},
   "outputs": [
    {
     "name": "stdout",
     "output_type": "stream",
     "text": [
      "0 {'Up': [(0.3333333333333333, 0, 0, False), (0.3333333333333333, 1, 0, False), (0.3333333333333333, 0, 0, False)], 'Down': [(0.3333333333333333, 4, 0, False), (0.3333333333333333, 1, 0, False), (0.3333333333333333, 0, 0, False)], 'Right': [(0.3333333333333333, 1, 0, False), (0.3333333333333333, 0, 0, False), (0.3333333333333333, 4, 0, False)], 'Left': [(0.3333333333333333, 0, 0, False), (0.3333333333333333, 0, 0, False), (0.3333333333333333, 4, 0, False)]}\n",
      "1 {'Up': [(0.3333333333333333, 1, 0, False), (0.3333333333333333, 2, 0, False), (0.3333333333333333, 0, 0, False)], 'Down': [(0.3333333333333333, 5, 0, True), (0.3333333333333333, 2, 0, False), (0.3333333333333333, 0, 0, False)], 'Right': [(0.3333333333333333, 2, 0, False), (0.3333333333333333, 1, 0, False), (0.3333333333333333, 5, 0, True)], 'Left': [(0.3333333333333333, 0, 0, False), (0.3333333333333333, 1, 0, False), (0.3333333333333333, 5, 0, True)]}\n",
      "2 {'Up': [(0.3333333333333333, 2, 0, False), (0.3333333333333333, 3, 0, False), (0.3333333333333333, 1, 0, False)], 'Down': [(0.3333333333333333, 6, 0, False), (0.3333333333333333, 3, 0, False), (0.3333333333333333, 1, 0, False)], 'Right': [(0.3333333333333333, 3, 0, False), (0.3333333333333333, 2, 0, False), (0.3333333333333333, 6, 0, False)], 'Left': [(0.3333333333333333, 1, 0, False), (0.3333333333333333, 2, 0, False), (0.3333333333333333, 6, 0, False)]}\n",
      "3 {'Up': [(0.3333333333333333, 3, 0, False), (0.3333333333333333, 3, 0, False), (0.3333333333333333, 2, 0, False)], 'Down': [(0.3333333333333333, 7, 0, True), (0.3333333333333333, 3, 0, False), (0.3333333333333333, 2, 0, False)], 'Right': [(0.3333333333333333, 3, 0, False), (0.3333333333333333, 3, 0, False), (0.3333333333333333, 7, 0, True)], 'Left': [(0.3333333333333333, 2, 0, False), (0.3333333333333333, 3, 0, False), (0.3333333333333333, 7, 0, True)]}\n",
      "4 {'Up': [(0.3333333333333333, 0, 0, False), (0.3333333333333333, 5, 0, True), (0.3333333333333333, 4, 0, False)], 'Down': [(0.3333333333333333, 8, 0, False), (0.3333333333333333, 5, 0, True), (0.3333333333333333, 4, 0, False)], 'Right': [(0.3333333333333333, 5, 0, True), (0.3333333333333333, 0, 0, False), (0.3333333333333333, 8, 0, False)], 'Left': [(0.3333333333333333, 4, 0, False), (0.3333333333333333, 0, 0, False), (0.3333333333333333, 8, 0, False)]}\n",
      "5 {'Up': (1.0, 5, 0, True), 'Down': (1.0, 5, 0, True), 'Right': (1.0, 5, 0, True), 'Left': (1.0, 5, 0, True)}\n",
      "6 {'Up': [(0.3333333333333333, 2, 0, False), (0.3333333333333333, 7, 0, True), (0.3333333333333333, 5, 0, True)], 'Down': [(0.3333333333333333, 10, 0, False), (0.3333333333333333, 7, 0, True), (0.3333333333333333, 5, 0, True)], 'Right': [(0.3333333333333333, 7, 0, True), (0.3333333333333333, 2, 0, False), (0.3333333333333333, 10, 0, False)], 'Left': [(0.3333333333333333, 5, 0, True), (0.3333333333333333, 2, 0, False), (0.3333333333333333, 10, 0, False)]}\n",
      "7 {'Up': (1.0, 7, 0, True), 'Down': (1.0, 7, 0, True), 'Right': (1.0, 7, 0, True), 'Left': (1.0, 7, 0, True)}\n",
      "8 {'Up': [(0.3333333333333333, 4, 0, False), (0.3333333333333333, 9, 0, False), (0.3333333333333333, 8, 0, False)], 'Down': [(0.3333333333333333, 12, 0, True), (0.3333333333333333, 9, 0, False), (0.3333333333333333, 8, 0, False)], 'Right': [(0.3333333333333333, 9, 0, False), (0.3333333333333333, 4, 0, False), (0.3333333333333333, 12, 0, True)], 'Left': [(0.3333333333333333, 8, 0, False), (0.3333333333333333, 4, 0, False), (0.3333333333333333, 12, 0, True)]}\n",
      "9 {'Up': [(0.3333333333333333, 5, 0, True), (0.3333333333333333, 10, 0, False), (0.3333333333333333, 8, 0, False)], 'Down': [(0.3333333333333333, 13, 0, False), (0.3333333333333333, 10, 0, False), (0.3333333333333333, 8, 0, False)], 'Right': [(0.3333333333333333, 10, 0, False), (0.3333333333333333, 5, 0, True), (0.3333333333333333, 13, 0, False)], 'Left': [(0.3333333333333333, 8, 0, False), (0.3333333333333333, 5, 0, True), (0.3333333333333333, 13, 0, False)]}\n",
      "10 {'Up': [(0.3333333333333333, 6, 0, False), (0.3333333333333333, 11, 0, True), (0.3333333333333333, 9, 0, False)], 'Down': [(0.3333333333333333, 14, 0, False), (0.3333333333333333, 11, 0, True), (0.3333333333333333, 9, 0, False)], 'Right': [(0.3333333333333333, 11, 0, True), (0.3333333333333333, 6, 0, False), (0.3333333333333333, 14, 0, False)], 'Left': [(0.3333333333333333, 9, 0, False), (0.3333333333333333, 6, 0, False), (0.3333333333333333, 14, 0, False)]}\n",
      "11 {'Up': (1.0, 11, 0, True), 'Down': (1.0, 11, 0, True), 'Right': (1.0, 11, 0, True), 'Left': (1.0, 11, 0, True)}\n",
      "12 {'Up': (1.0, 12, 0, True), 'Down': (1.0, 12, 0, True), 'Right': (1.0, 12, 0, True), 'Left': (1.0, 12, 0, True)}\n",
      "13 {'Up': [(0.3333333333333333, 9, 0, False), (0.3333333333333333, 14, 0, False), (0.3333333333333333, 12, 0, True)], 'Down': [(0.3333333333333333, 13, 0, False), (0.3333333333333333, 14, 0, False), (0.3333333333333333, 12, 0, True)], 'Right': [(0.3333333333333333, 14, 0, False), (0.3333333333333333, 9, 0, False), (0.3333333333333333, 13, 0, False)], 'Left': [(0.3333333333333333, 12, 0, True), (0.3333333333333333, 9, 0, False), (0.3333333333333333, 13, 0, False)]}\n",
      "14 {'Up': [(0.3333333333333333, 10, 0, False), (0.3333333333333333, 15, 1, True), (0.3333333333333333, 13, 0, False)], 'Down': [(0.3333333333333333, 14, 0, False), (0.3333333333333333, 15, 1, True), (0.3333333333333333, 13, 0, False)], 'Right': [(0.3333333333333333, 15, 1, True), (0.3333333333333333, 10, 0, False), (0.3333333333333333, 14, 0, False)], 'Left': [(0.3333333333333333, 13, 0, False), (0.3333333333333333, 10, 0, False), (0.3333333333333333, 14, 0, False)]}\n",
      "15 {'Up': (1.0, 15, 0, True), 'Down': (1.0, 15, 0, True), 'Right': (1.0, 15, 0, True), 'Left': (1.0, 15, 0, True)}\n"
     ]
    }
   ],
   "source": [
    "for state in range(0, 16):\n",
    "\n",
    "    # add transitions to other states\n",
    "    transitions = {}\n",
    "\n",
    "    for action in [\"Up\", \"Down\", \"Right\", \"Left\"]:\n",
    "        if(state==5 or state==7 or state==11 or state==12 or state==15):\n",
    "            transitions[action] = (1.0, state, 0, True)\n",
    "            continue\n",
    "        \n",
    "        transitions[action] = [ (1/3,getNewState(action,state),getReward(action,state),getTer(action,state)) , ]\n",
    "\n",
    "    if not (state==5 or state==7 or state==11 or state==12 or state==15):\n",
    "        for action in [\"Up\", \"Down\", \"Right\", \"Left\"]:\n",
    "                if action==\"Up\" or action==\"Down\" :\n",
    "                    transitions[action].append(transitions[\"Right\"][0])\n",
    "                    transitions[action].append(transitions[\"Left\"][0])\n",
    "                if action==\"Right\" or action==\"Left\" :\n",
    "                    transitions[action].append(transitions[\"Up\"][0])\n",
    "                    transitions[action].append(transitions[\"Down\"][0])\n",
    "\n",
    "    fl_mdp[state] = transitions\n",
    "\n",
    "for x in range(16):\n",
    "    print(x, fl_mdp[x])"
   ]
  },
  {
   "cell_type": "code",
   "execution_count": null,
   "id": "1a59d0d1-e3b2-42e7-928e-231db2c2a3ad",
   "metadata": {},
   "outputs": [],
   "source": []
  }
 ],
 "metadata": {
  "kernelspec": {
   "display_name": "Python 3 (ipykernel)",
   "language": "python",
   "name": "python3"
  },
  "language_info": {
   "codemirror_mode": {
    "name": "ipython",
    "version": 3
   },
   "file_extension": ".py",
   "mimetype": "text/x-python",
   "name": "python",
   "nbconvert_exporter": "python",
   "pygments_lexer": "ipython3",
   "version": "3.13.0"
  }
 },
 "nbformat": 4,
 "nbformat_minor": 5
}
