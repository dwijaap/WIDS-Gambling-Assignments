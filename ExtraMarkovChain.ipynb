{
 "cells": [
  {
   "cell_type": "markdown",
   "id": "ca09c203-23e6-4ff4-b147-7d1ad9896c32",
   "metadata": {},
   "source": [
    "## Ice-Castle\n",
    "a -> b = 1<br>\n",
    "b -> a = 0.2<br>\n",
    "b -> b = 0.4<br>\n",
    "b -> c = 0.4<br>\n",
    "c -> b = 0.4<br>\n",
    "c -> c = 0.4<br>\n",
    "c -> e = 0.2<br>"
   ]
  },
  {
   "cell_type": "code",
   "execution_count": 12,
   "id": "278cf499-8827-41ed-a9a3-0f949596a672",
   "metadata": {},
   "outputs": [
    {
     "name": "stdout",
     "output_type": "stream",
     "text": [
      "15\n"
     ]
    }
   ],
   "source": [
    "import numpy as np\n",
    "mm = np.array([\n",
    "    [0.0, 1.0, 0.0],\n",
    "    [0.2, 0.4, 0.4],\n",
    "    [0.0, 0.4, 0.4]\n",
    "])\n",
    "c = np.array([[1],[1],[1]])\n",
    "mn = np.identity(3) - mm\n",
    "mn = np.linalg.inv(mn)\n",
    "t = np.dot(mn,c)\n",
    "print(int(t[0][0]))"
   ]
  },
  {
   "cell_type": "markdown",
   "id": "e3af61b7-00a9-4c93-80bb-8f9a7d5cacc9",
   "metadata": {},
   "source": [
    "### Ice Tower - Anna\n",
    "1 -> 2 = 1<br>\n",
    "2 -> 1 = 1/2<br>\n",
    "2 -> 3 = 1/2<br>\n",
    "similarly till 98<br>\n",
    "find expected<br>"
   ]
  },
  {
   "cell_type": "code",
   "execution_count": 25,
   "id": "e6461cae-61d4-474d-b70a-c1a7ddddf41a",
   "metadata": {},
   "outputs": [
    {
     "name": "stdout",
     "output_type": "stream",
     "text": [
      "9604\n"
     ]
    }
   ],
   "source": [
    "import numpy as np\n",
    "arr = np.array([np.zeros(98)])\n",
    "t = np.ones(98)\n",
    "arr[0][1] = 1\n",
    "for x in range(97):\n",
    "    ari = np.array([np.zeros(98)])\n",
    "    ari[0][x] = 1/2\n",
    "    if(x!=96):\n",
    "        ari[0][x+2] = 1/2\n",
    "    arr = np.concatenate((arr, ari),axis=0)\n",
    "\n",
    "arr = np.identity(98) - arr\n",
    "arr = np.linalg.inv(arr)\n",
    "arr = arr.T\n",
    "c = np.dot(t,arr)\n",
    "print(int(c[0]))"
   ]
  }
 ],
 "metadata": {
  "kernelspec": {
   "display_name": "Python 3 (ipykernel)",
   "language": "python",
   "name": "python3"
  },
  "language_info": {
   "codemirror_mode": {
    "name": "ipython",
    "version": 3
   },
   "file_extension": ".py",
   "mimetype": "text/x-python",
   "name": "python",
   "nbconvert_exporter": "python",
   "pygments_lexer": "ipython3",
   "version": "3.13.0"
  }
 },
 "nbformat": 4,
 "nbformat_minor": 5
}
